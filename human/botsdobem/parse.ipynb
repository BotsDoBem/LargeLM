{
 "cells": [
  {
   "cell_type": "code",
   "execution_count": 1,
   "metadata": {},
   "outputs": [],
   "source": [
    "import os \n",
    "import json\n",
    "import csv"
   ]
  },
  {
   "cell_type": "markdown",
   "metadata": {},
   "source": [
    "Create directory to save human evaluation sheets"
   ]
  },
  {
   "cell_type": "code",
   "execution_count": 2,
   "metadata": {},
   "outputs": [],
   "source": [
    "if not os.path.exists('human'):\n",
    "    os.mkdir('human')"
   ]
  },
  {
   "cell_type": "markdown",
   "metadata": {},
   "source": [
    "# Botsdobem\n",
    "\n",
    "Count test entries per domain"
   ]
  },
  {
   "cell_type": "code",
   "execution_count": 3,
   "metadata": {},
   "outputs": [
    {
     "data": {
      "text/plain": [
       "Counter({'[AMAZON_FIRE]': 54,\n",
       "         '[COVID19]': 54,\n",
       "         '[DEFORESTATION_DAILY]': 237,\n",
       "         '[DEFORESTATION_MONTH]': 11})"
      ]
     },
     "execution_count": 3,
     "metadata": {},
     "output_type": "execute_result"
    }
   ],
   "source": [
    "from collections import Counter\n",
    "\n",
    "path = os.path.join('results', 'botsdobem_mt5', 'result.json')\n",
    "data = json.load(open(path))\n",
    "domains = [w['intent'].split()[0] for w in data]\n",
    "Counter(domains)"
   ]
  },
  {
   "cell_type": "markdown",
   "metadata": {},
   "source": [
    "Choose entries for human evaluation\n",
    "\n",
    "30 for Amazon Fire, 30 for COVID19, 30 for deforestation daily and 10 for deforstation month"
   ]
  },
  {
   "cell_type": "code",
   "execution_count": 4,
   "metadata": {},
   "outputs": [],
   "source": [
    "from random import shuffle\n",
    "\n",
    "domains = {\n",
    "    '[AMAZON_FIRE]': 40,\n",
    "    '[COVID19]': 40,\n",
    "    '[DEFORESTATION_DAILY]': 40,\n",
    "    '[DEFORESTATION_MONTH]': 10\n",
    "}\n",
    "idxs = []\n",
    "\n",
    "path = os.path.join('results', 'botsdobem_mt5', 'result.json')\n",
    "data = json.load(open(path))\n",
    "shuffle(data)\n",
    "\n",
    "for row in data:\n",
    "    idx = row['idx']\n",
    "    intent = row['intent']\n",
    "    domain = intent.split()[0]\n",
    "    \n",
    "    if domains[domain] > 0:\n",
    "        idxs.append(idx)\n",
    "        domains[domain] -= 1\n",
    "\n",
    "fdir = os.path.join('human', 'botsdobem')\n",
    "if not os.path.exists(fdir):\n",
    "    os.mkdir(fdir)\n",
    "\n",
    "# save idxs\n",
    "path = os.path.join(fdir, 'idxs.json')\n",
    "json.dump(idxs, open(path, 'w'), separators=(',', ':'), sort_keys=True, indent=4)"
   ]
  },
  {
   "cell_type": "markdown",
   "metadata": {},
   "source": [
    "Get output of the model for the selected indexes"
   ]
  },
  {
   "cell_type": "code",
   "execution_count": 5,
   "metadata": {},
   "outputs": [],
   "source": [
    "output = []\n",
    "for fdir in os.listdir('results'):\n",
    "    if 'botsdobem' in fdir:\n",
    "        path = os.path.join('results', fdir, 'result.json')\n",
    "        result = json.load(open(path))\n",
    "        \n",
    "        for idx in idxs:\n",
    "            f = [w for w in result if w['idx'] == idx][0]\n",
    "            output.append({\n",
    "                'idx': idx,\n",
    "                'intent': f['intent'],\n",
    "                'hyp': f['hyp'].strip(),\n",
    "                'ref': f['refs'][0],\n",
    "                'domain': fdir\n",
    "            })\n",
    "            \n",
    "for idx in idxs:\n",
    "    f = [w for w in result if w['idx'] == idx][0]\n",
    "    output.append({\n",
    "        'idx': idx,\n",
    "        'intent': f['intent'],\n",
    "        'hyp': f['refs'][0],\n",
    "        'ref': f['refs'][0],\n",
    "        'domain': 'gold'\n",
    "    })\n",
    "\n",
    "shuffle(output)\n",
    "# save idxs\n",
    "fdir = os.path.join('human', 'botsdobem')\n",
    "path = os.path.join(fdir, 'result.json')\n",
    "json.dump(output, open(path, 'w'), separators=(',', ':'), sort_keys=True, indent=4)"
   ]
  },
  {
   "cell_type": "markdown",
   "metadata": {},
   "source": [
    "Save results in a csv"
   ]
  },
  {
   "cell_type": "code",
   "execution_count": 6,
   "metadata": {},
   "outputs": [],
   "source": [
    "fdir = os.path.join('human', 'botsdobem')\n",
    "path = os.path.join(fdir, 'annotation.csv')\n",
    "\n",
    "header = [\"MR\", \"Reference\", \"Hypothesis\", \\\n",
    "          \"Incorrect Number\", \"Incorrect Named Entity\", \\\n",
    "          \"Incorrect Word\", \"Context Error\", \"Not checkable\", \"Other\", \"Fluency\"]\n",
    "\n",
    "with open(path, 'w') as f:\n",
    "    writer = csv.writer(f, delimiter=';', quotechar='\\\"', quoting=csv.QUOTE_MINIMAL)\n",
    "    writer.writerow(header)\n",
    "    \n",
    "    for row in output:\n",
    "        writer.writerow([row['intent'], row['ref'], row['hyp']])"
   ]
  },
  {
   "cell_type": "code",
   "execution_count": null,
   "metadata": {},
   "outputs": [],
   "source": []
  }
 ],
 "metadata": {
  "kernelspec": {
   "display_name": "Python 3",
   "language": "python",
   "name": "python3"
  },
  "language_info": {
   "codemirror_mode": {
    "name": "ipython",
    "version": 3
   },
   "file_extension": ".py",
   "mimetype": "text/x-python",
   "name": "python",
   "nbconvert_exporter": "python",
   "pygments_lexer": "ipython3",
   "version": "3.9.2"
  }
 },
 "nbformat": 4,
 "nbformat_minor": 2
}
